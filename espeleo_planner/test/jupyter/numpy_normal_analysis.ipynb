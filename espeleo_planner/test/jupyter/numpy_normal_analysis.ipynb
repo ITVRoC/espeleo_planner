{
 "cells": [
  {
   "cell_type": "code",
   "execution_count": 66,
   "metadata": {},
   "outputs": [
    {
     "name": "stdout",
     "output_type": "stream",
     "text": [
      "normals: [[-0.21838377, -0.94240442, -0.25334252], [-0.39147152, -0.43746664, -0.8095511], [-0.00694405, -0.99478075, -0.10179902], [-0.39147152, -0.43746664, -0.8095511]]\n",
      "np_normals: [[-0.21838377 -0.94240442 -0.25334252]\n",
      " [-0.39147152 -0.43746664 -0.8095511 ]\n",
      " [-0.00694405 -0.99478075 -0.10179902]\n",
      " [-0.39147152 -0.43746664 -0.8095511 ]]\n",
      "np_points: [[1 1 1]\n",
      " [2 2 2]\n",
      " [3 3 3]\n",
      " [2 2 2]]\n"
     ]
    }
   ],
   "source": [
    "import numpy as np\n",
    "import math\n",
    "\n",
    "normals = [[-0.21838377, -0.94240442, -0.25334252], [-0.39147152, -0.43746664, -0.8095511 ], [-0.00694405, -0.99478075, -0.10179902], [-0.39147152, -0.43746664, -0.8095511 ]]\n",
    "np_normals = np.array(normals)\n",
    "np_points = np.array([[1, 1, 1], [2, 2, 2], [3, 3, 3], [2, 2, 2]])\n",
    "\n",
    "print \"normals:\", normals\n",
    "print \"np_normals:\", np_normals\n",
    "print \"np_points:\", np_points"
   ]
  },
  {
   "cell_type": "code",
   "execution_count": 67,
   "metadata": {},
   "outputs": [],
   "source": [
    "def angle_between_vectors(v1, v2):\n",
    "    \"\"\" Returns the angle in degrees between vectors 'v1' and 'v2'\n",
    "    Original from: https://stackoverflow.com/questions/2827393/angles-between-two-n-dimensional-vectors-in-python\n",
    "\n",
    "    >>> angle_between((1, 0, 0), (0, 1, 0))\n",
    "    1.5707963267948966\n",
    "    >>> angle_between((1, 0, 0), (1, 0, 0))\n",
    "    0.0\n",
    "    >>> angle_between((1, 0, 0), (-1, 0, 0))\n",
    "    3.141592653589793\n",
    "\n",
    "    :param v1: vector 1\n",
    "    :param v2: vector 2\n",
    "    :return:\n",
    "    \"\"\"\n",
    "    def unit_vector(vector):\n",
    "        \"\"\" Returns the unit vector of the vector.  \"\"\"\n",
    "        v_norm = np.linalg.norm(vector)\n",
    "        if v_norm == 0.0:\n",
    "            return np.asarray([0.0, 0.0, 0.0])\n",
    "\n",
    "        print \"v_norm:\", v_norm\n",
    "        return vector / v_norm\n",
    "\n",
    "    v1_u = unit_vector(v1)\n",
    "    print \"v1_u:\", v1_u\n",
    "    \n",
    "    v2_u = unit_vector(v2)\n",
    "\n",
    "    clipped_u = np.clip(np.dot(v1_u, v2_u), -1.0, 1.0)\n",
    "    arccos_u = np.arccos(clipped_u)\n",
    "    return np.degrees(arccos_u)\n",
    "\n",
    "def calculate_traversal_angle(face_normal, z_vector=(0, 0, -1)):\n",
    "    \"\"\"Public method Calculate the traversability of a node face\n",
    "    Traversability is given by the inclination of the face with respect to the gravity vector (0, 0, -1)\n",
    "    :param face_normal:\n",
    "    :param z_vector:\n",
    "    :return: traversal angle in degrees\n",
    "    \"\"\"\n",
    "    theta = angle_between_vectors(face_normal, z_vector)\n",
    "\n",
    "    # overcome inverted normals by normalizing the opposite angle (90-180) to 0-90\n",
    "    if theta > 90:\n",
    "        theta = math.fabs(theta - 180)\n",
    "\n",
    "    return theta"
   ]
  },
  {
   "cell_type": "code",
   "execution_count": 68,
   "metadata": {},
   "outputs": [
    {
     "name": "stdout",
     "output_type": "stream",
     "text": [
      "v_norm: 0.9999999971374498\n",
      "v1_u: [-0.21838377 -0.94240442 -0.25334252]\n",
      "v_norm: 1.0\n",
      "75.32460610700802\n",
      "v_norm: 0.999999997797605\n",
      "v1_u: [-0.39147152 -0.43746664 -0.8095511 ]\n",
      "v_norm: 1.0\n",
      "35.947903991813604\n",
      "v_norm: 1.0000000004369627\n",
      "v1_u: [-0.00694405 -0.99478075 -0.10179902]\n",
      "v_norm: 1.0\n",
      "84.15722452208665\n",
      "v_norm: 0.999999997797605\n",
      "v1_u: [-0.39147152 -0.43746664 -0.8095511 ]\n",
      "v_norm: 1.0\n",
      "35.947903991813604\n"
     ]
    }
   ],
   "source": [
    "for e in normals:\n",
    "    print calculate_traversal_angle(e)"
   ]
  },
  {
   "cell_type": "code",
   "execution_count": 69,
   "metadata": {},
   "outputs": [
    {
     "data": {
      "text/plain": [
       "(4, 3)"
      ]
     },
     "execution_count": 69,
     "metadata": {},
     "output_type": "execute_result"
    }
   ],
   "source": [
    "np_normals.shape"
   ]
  },
  {
   "cell_type": "code",
   "execution_count": 70,
   "metadata": {},
   "outputs": [
    {
     "data": {
      "text/plain": [
       "(4,)"
      ]
     },
     "execution_count": 70,
     "metadata": {},
     "output_type": "execute_result"
    }
   ],
   "source": [
    "np.linalg.norm(np_normals, axis=1).shape"
   ]
  },
  {
   "cell_type": "code",
   "execution_count": 79,
   "metadata": {},
   "outputs": [
    {
     "name": "stdout",
     "output_type": "stream",
     "text": [
      "[75.32460611 35.94790399 84.15722452 35.94790399]\n",
      "[ 75.32460611  35.94790399 -95.84277548  35.94790399]\n"
     ]
    }
   ],
   "source": [
    "aa = (np_normals / np.linalg.norm(np_normals, axis=1)[:,None])\n",
    "clipped_u = np.clip(np.dot(aa, [0, 0, -1]), -1.0, 1.0)\n",
    "arccos_u = np.arccos(clipped_u)\n",
    "degrees_u = np.degrees(arccos_u)\n",
    "\n",
    "# b = np.where(a > 0, a, 0)\n",
    "\n",
    "f_degrees_u = np.where(~(degrees_u >= 80), degrees_u, degrees_u - 180)\n",
    "\n",
    "print degrees_u\n",
    "print f_degrees_u"
   ]
  },
  {
   "cell_type": "code",
   "execution_count": 47,
   "metadata": {},
   "outputs": [
    {
     "data": {
      "text/plain": [
       "0.9999999971374498"
      ]
     },
     "execution_count": 47,
     "metadata": {},
     "output_type": "execute_result"
    }
   ],
   "source": [
    "np.linalg.norm(np.array([-0.21838377, -0.94240442, -0.25334252]), axis=0)"
   ]
  },
  {
   "cell_type": "code",
   "execution_count": 58,
   "metadata": {},
   "outputs": [
    {
     "data": {
      "text/plain": [
       "array([[2, 2, 2]])"
      ]
     },
     "execution_count": 58,
     "metadata": {},
     "output_type": "execute_result"
    }
   ],
   "source": [
    "np_points[(degrees_u < 50)]"
   ]
  },
  {
   "cell_type": "code",
   "execution_count": 60,
   "metadata": {},
   "outputs": [
    {
     "data": {
      "text/plain": [
       "array([[-0.39147152, -0.43746664, -0.8095511 ]])"
      ]
     },
     "execution_count": 60,
     "metadata": {},
     "output_type": "execute_result"
    }
   ],
   "source": [
    "np_normals[(degrees_u < 50)]"
   ]
  }
 ],
 "metadata": {
  "kernelspec": {
   "display_name": "Python 2",
   "language": "python",
   "name": "python2"
  },
  "language_info": {
   "codemirror_mode": {
    "name": "ipython",
    "version": 2
   },
   "file_extension": ".py",
   "mimetype": "text/x-python",
   "name": "python",
   "nbconvert_exporter": "python",
   "pygments_lexer": "ipython2",
   "version": "2.7.12"
  }
 },
 "nbformat": 4,
 "nbformat_minor": 2
}
